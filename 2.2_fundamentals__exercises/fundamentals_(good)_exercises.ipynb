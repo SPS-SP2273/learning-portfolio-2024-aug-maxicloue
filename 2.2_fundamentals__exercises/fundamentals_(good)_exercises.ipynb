{
 "cells": [
  {
   "attachments": {},
   "cell_type": "markdown",
   "id": "123456",
   "metadata": {},
   "source": [
    "<div style=\"text-align:left;font-size:2em\"><span style=\"font-weight:bolder;font-size:1.25em\">SP2273 | Learning Portfolio</span><br><br><span style=\"font-weight:bold;color:darkred\">Fundamentals (Good) Exercises</span></div>"
   ]
  },
  {
   "cell_type": "markdown",
   "id": "4490f14a-105c-40cb-9ba1-14e78a387e38",
   "metadata": {},
   "source": [
    "## Exercise 1 (f-strings to the rescue)"
   ]
  },
  {
   "cell_type": "markdown",
   "id": "bd71b802-c3d6-4e94-a117-18dfeed0fe06",
   "metadata": {},
   "source": [
    "### Task 1"
   ]
  },
  {
   "cell_type": "code",
   "execution_count": 16,
   "id": "cd4583e3-9337-4f69-bfda-b5592f0c5d48",
   "metadata": {
    "scrolled": true
   },
   "outputs": [
    {
     "name": "stdin",
     "output_type": "stream",
     "text": [
      "What is your Name? marcus\n"
     ]
    },
    {
     "name": "stdout",
     "output_type": "stream",
     "text": [
      "How you doin MARCUS !\n"
     ]
    }
   ],
   "source": [
    "user_input = input ('What is your Name?')\n",
    "print ('How you doin', user_input.upper(),'!')"
   ]
  },
  {
   "cell_type": "markdown",
   "id": "f4dba6c6-6b3b-4abb-b606-af7fa618c101",
   "metadata": {},
   "source": [
    "### Task 2"
   ]
  },
  {
   "cell_type": "code",
   "execution_count": 17,
   "id": "0eda2627-30e4-42a6-992c-96bd619947da",
   "metadata": {},
   "outputs": [
    {
     "name": "stdin",
     "output_type": "stream",
     "text": [
      "What is your name? m\n",
      "How old are you? 21\n"
     ]
    },
    {
     "name": "stdout",
     "output_type": "stream",
     "text": [
      "My name is M and I am 21 years old.\n"
     ]
    }
   ],
   "source": [
    "user_input_1 = input ('What is your name?')\n",
    "user_input_2 = input ('How old are you?')\n",
    "print ('My name is', user_input_1.upper(), 'and I am', user_input_2, 'years old.')"
   ]
  },
  {
   "cell_type": "markdown",
   "id": "998fd740-4f2c-4ca5-96ae-65e507eed447",
   "metadata": {},
   "source": [
    "### Task 3"
   ]
  },
  {
   "cell_type": "code",
   "execution_count": 15,
   "id": "5243672f-7487-4169-ac55-f1f11b8380bb",
   "metadata": {},
   "outputs": [
    {
     "name": "stdout",
     "output_type": "stream",
     "text": [
      "The value of pi to 2 decimal places is 3.14\n",
      "The value of pi to 3 decimal places is 3.142\n",
      "The value of pi to 4 decimal places is 3.1416\n"
     ]
    }
   ],
   "source": [
    "pi = 3.141592653589793\n",
    "print(f'The value of pi to 2 decimal places is {pi:.2f}')\n",
    "print(f'The value of pi to 3 decimal places is {pi:.3f}')\n",
    "print(f'The value of pi to 4 decimal places is {pi:.4f}')"
   ]
  },
  {
   "cell_type": "markdown",
   "id": "fe70b0cd-5824-4fba-aff1-15457e71ac5c",
   "metadata": {},
   "source": [
    "### Task 4"
   ]
  },
  {
   "cell_type": "code",
   "execution_count": 22,
   "id": "917801c6-952e-4269-81cd-527fcae1b589",
   "metadata": {},
   "outputs": [
    {
     "name": "stdout",
     "output_type": "stream",
     "text": [
      "Apple     $0.99\n",
      "Banana    $0.59\n",
      "Orange    $1.29\n"
     ]
    }
   ],
   "source": [
    "fruit1 = 'Apple'\n",
    "fruit2 = 'Banana'\n",
    "fruit3 = 'Orange'\n",
    "price1 = '$0.99'\n",
    "price2 = '$0.59'\n",
    "price3 = '$1.29'\n",
    "print (f'{fruit1}{price1:>10}\\n{fruit2}{price2:>9}\\n{fruit3}{price3:>9}')"
   ]
  },
  {
   "cell_type": "markdown",
   "id": "d97c9f7e-a8c1-40dd-b2ad-f3d613e2810f",
   "metadata": {},
   "source": [
    "## Exercise 2 (What is your grade?)"
   ]
  },
  {
   "cell_type": "code",
   "execution_count": 4,
   "id": "e2474378-ae6a-4b56-83ad-d983126a6da2",
   "metadata": {},
   "outputs": [
    {
     "name": "stdin",
     "output_type": "stream",
     "text": [
      "What is your score? a\n"
     ]
    },
    {
     "ename": "TypeError",
     "evalue": "'<=' not supported between instances of 'int' and 'str'",
     "output_type": "error",
     "traceback": [
      "\u001b[0;31m---------------------------------------------------------------------------\u001b[0m",
      "\u001b[0;31mTypeError\u001b[0m                                 Traceback (most recent call last)",
      "Cell \u001b[0;32mIn[4], line 2\u001b[0m\n\u001b[1;32m      1\u001b[0m score \u001b[38;5;241m=\u001b[39m \u001b[38;5;28mstr\u001b[39m(\u001b[38;5;28minput\u001b[39m (\u001b[38;5;124m'\u001b[39m\u001b[38;5;124mWhat is your score?\u001b[39m\u001b[38;5;124m'\u001b[39m))\n\u001b[0;32m----> 2\u001b[0m \u001b[38;5;28;01mif\u001b[39;00m \u001b[38;5;241;43m70\u001b[39;49m\u001b[38;5;241;43m<\u001b[39;49m\u001b[38;5;241;43m=\u001b[39;49m\u001b[43mscore\u001b[49m\u001b[38;5;241;43m<\u001b[39;49m\u001b[38;5;241;43m=\u001b[39;49m\u001b[38;5;241;43m100\u001b[39;49m :\n\u001b[1;32m      3\u001b[0m     \u001b[38;5;28mprint\u001b[39m (\u001b[38;5;124m\"\u001b[39m\u001b[38;5;124mThe student\u001b[39m\u001b[38;5;124m'\u001b[39m\u001b[38;5;124ms letter grade is: A\u001b[39m\u001b[38;5;124m\"\u001b[39m)\n\u001b[1;32m      4\u001b[0m \u001b[38;5;28;01melif\u001b[39;00m \u001b[38;5;241m50\u001b[39m\u001b[38;5;241m<\u001b[39m\u001b[38;5;241m=\u001b[39mscore\u001b[38;5;241m<\u001b[39m\u001b[38;5;241m=\u001b[39m\u001b[38;5;241m69\u001b[39m :\n",
      "\u001b[0;31mTypeError\u001b[0m: '<=' not supported between instances of 'int' and 'str'"
     ]
    }
   ],
   "source": [
    "try:\n",
    "    score = int(input ('What is your score?'))\n",
    "    if 70<=score<=100 :\n",
    "        print (\"The student's letter grade is: A\")\n",
    "    elif 50<=score<=69 :\n",
    "        print (\"The student's letter grade is: B\")\n",
    "    elif 35<=score<=49 :\n",
    "        print (\"The student's letter grade is: C\")\n",
    "    elif 0<=score<=34 :\n",
    "        print (\"The student's letter grade is: Fail\")\n",
    "    else :\n",
    "        print (\"Error, score is outside range.\")\n",
    "except ValueError: \n",
    "    print (\""
   ]
  },
  {
   "cell_type": "markdown",
   "id": "b9be6364-30cf-4aa7-8452-5aa623b35da3",
   "metadata": {},
   "source": [
    "## Exercise 3 (Debugging code)"
   ]
  },
  {
   "cell_type": "code",
   "execution_count": 49,
   "id": "b8e6d420-6dce-4467-bf59-8364210e13dd",
   "metadata": {},
   "outputs": [
    {
     "name": "stdout",
     "output_type": "stream",
     "text": [
      "120\n",
      "Invalid input\n"
     ]
    }
   ],
   "source": [
    "def factorial(n):\n",
    "    if n < 0:\n",
    "        return \"Invalid input\"\n",
    "    elif n == 0:\n",
    "        return 1\n",
    "    else:\n",
    "        result = 1\n",
    "        for number in range(1, n+1):\n",
    "            result *= number\n",
    "        return result\n",
    "\n",
    "\n",
    "print(factorial(5))   # Testing, expected output: 120\n",
    "print(factorial(-1))  # Testing, expected output: Invalid input"
   ]
  },
  {
   "cell_type": "code",
   "execution_count": null,
   "id": "79bb5958-f3d1-43ec-8bc0-55363b9caef3",
   "metadata": {},
   "outputs": [],
   "source": []
  }
 ],
 "metadata": {
  "kernelspec": {
   "display_name": "Python 3 (ipykernel)",
   "language": "python",
   "name": "python3"
  },
  "language_info": {
   "codemirror_mode": {
    "name": "ipython",
    "version": 3
   },
   "file_extension": ".py",
   "mimetype": "text/x-python",
   "name": "python",
   "nbconvert_exporter": "python",
   "pygments_lexer": "ipython3",
   "version": "3.12.2"
  },
  "toc": {
   "base_numbering": 1,
   "nav_menu": {},
   "number_sections": true,
   "sideBar": true,
   "skip_h1_title": false,
   "title_cell": "Table of Contents",
   "title_sidebar": "Contents",
   "toc_cell": false,
   "toc_position": {},
   "toc_section_display": true,
   "toc_window_display": false
  },
  "vscode": {
   "interpreter": {
    "hash": "31f2aee4e71d21fbe5cf8b01ff0e069b9275f58929596ceb00d14d90e3e16cd6"
   }
  }
 },
 "nbformat": 4,
 "nbformat_minor": 5
}
