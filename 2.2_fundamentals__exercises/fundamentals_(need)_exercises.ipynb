{
 "cells": [
  {
   "attachments": {},
   "cell_type": "markdown",
   "id": "123456",
   "metadata": {},
   "source": [
    "<div style=\"text-align:left;font-size:2em\"><span style=\"font-weight:bolder;font-size:1.25em\">SP2273 | Learning Portfolio</span><br><br><span style=\"font-weight:bold;color:darkred\">Fundamentals (Need) Exercises</span></div>"
   ]
  },
  {
   "cell_type": "markdown",
   "id": "d14f6a6e-9310-47cd-ac36-e03ab2d879b4",
   "metadata": {},
   "source": [
    "### Exercise 1 (Total Recall)"
   ]
  },
  {
   "cell_type": "markdown",
   "id": "cab07c93-9851-4c16-8122-1e4fbe4cd473",
   "metadata": {},
   "source": [
    "1. Functions\n",
    "2. Comments\n",
    "3. Lists\n",
    "4. Use of if/else\n",
    "5. Variables\n",
    "6. Brackets\n",
    "7. Packages\n",
    "8. _dot_\n",
    "9. _= versus ==_"
   ]
  },
  {
   "cell_type": "markdown",
   "id": "304a5f5d-c0df-4225-8683-50a4e6372177",
   "metadata": {},
   "source": [
    "### Exercise 2 (Debug Me)"
   ]
  },
  {
   "cell_type": "code",
   "execution_count": 1,
   "id": "125f3fdf-9557-4665-bb9d-da96de980a78",
   "metadata": {},
   "outputs": [],
   "source": [
    "import math"
   ]
  },
  {
   "cell_type": "code",
   "execution_count": 2,
   "id": "3788ab10-d317-4d52-a2c3-94bf389053c7",
   "metadata": {},
   "outputs": [
    {
     "name": "stdout",
     "output_type": "stream",
     "text": [
      "3 4 5.0\n"
     ]
    }
   ],
   "source": [
    "x, y = 3, 4\n",
    "z = math.sqrt(x**2 + y**2)\n",
    "print (x, y, z)"
   ]
  },
  {
   "cell_type": "markdown",
   "id": "9d0dd8f5-9c8b-437c-8400-37aa075a074d",
   "metadata": {},
   "source": [
    "### Exercise 3 (In your own words)"
   ]
  },
  {
   "cell_type": "markdown",
   "id": "9e9ce3e7-342d-4031-aa66-dea4ceab9b2a",
   "metadata": {},
   "source": [
    "| **#** | **Term** | **Description** |\n",
    "| :---: | :------- | :-------------- |\n",
    "| 1 | Function | A function is a section of code that performs a specific task |\n",
    "| 2 | Arguments | An argument is the value assigned to a function |\n",
    "| 3 | Comments | Comments are lines of code denoted by a # that is not taken into consideration when the code is run |\n",
    "| 4 | Indentations | An indentation is a spacing at the start of a line of code used to separate lines |\n",
    "| 5 | Packages | A package is like teaching the Python Interpreter a new skill |\n",
    "| 6 | . | The dot indicates ownership |\n",
    "| 7 | : | The colon is used to define code for true/false statements |\n",
    "| 8 | [] | The square brackets are used for lists of data |\n",
    "| 9 | [[][]] | This is used for higher dimensional lists of data |\n",
    "| 10 | {} | The squiggly brackets are used for storing data in the dictionary|"
   ]
  },
  {
   "cell_type": "markdown",
   "id": "867b8eac-47b8-4744-879b-066b9dc654fe",
   "metadata": {},
   "source": [
    "### Exercise 4 (More than 1 way to divide)"
   ]
  },
  {
   "cell_type": "code",
   "execution_count": 10,
   "id": "1adca718-2065-45a6-8dc3-151bd4e90870",
   "metadata": {},
   "outputs": [
    {
     "data": {
      "text/plain": [
       "2.5"
      ]
     },
     "execution_count": 10,
     "metadata": {},
     "output_type": "execute_result"
    }
   ],
   "source": [
    "5/2 #/ is used for division"
   ]
  },
  {
   "cell_type": "code",
   "execution_count": 11,
   "id": "618e9083-ad60-493e-a985-007986948c2c",
   "metadata": {},
   "outputs": [
    {
     "data": {
      "text/plain": [
       "2"
      ]
     },
     "execution_count": 11,
     "metadata": {},
     "output_type": "execute_result"
    }
   ],
   "source": [
    "5//2 #// is also used for division, but the answer is rounded to the next smallest integer"
   ]
  },
  {
   "cell_type": "code",
   "execution_count": 12,
   "id": "8070e735-43e7-445c-a905-d73201f940be",
   "metadata": {},
   "outputs": [
    {
     "data": {
      "text/plain": [
       "1"
      ]
     },
     "execution_count": 12,
     "metadata": {},
     "output_type": "execute_result"
    }
   ],
   "source": [
    "5%2 #% is used to find the remainder of the division, i.e. remainder of 5/2 is 1"
   ]
  }
 ],
 "metadata": {
  "kernelspec": {
   "display_name": "Python 3 (ipykernel)",
   "language": "python",
   "name": "python3"
  },
  "language_info": {
   "codemirror_mode": {
    "name": "ipython",
    "version": 3
   },
   "file_extension": ".py",
   "mimetype": "text/x-python",
   "name": "python",
   "nbconvert_exporter": "python",
   "pygments_lexer": "ipython3",
   "version": "3.12.2"
  },
  "toc": {
   "base_numbering": 1,
   "nav_menu": {},
   "number_sections": true,
   "sideBar": true,
   "skip_h1_title": false,
   "title_cell": "Table of Contents",
   "title_sidebar": "Contents",
   "toc_cell": false,
   "toc_position": {},
   "toc_section_display": true,
   "toc_window_display": false
  },
  "vscode": {
   "interpreter": {
    "hash": "31f2aee4e71d21fbe5cf8b01ff0e069b9275f58929596ceb00d14d90e3e16cd6"
   }
  }
 },
 "nbformat": 4,
 "nbformat_minor": 5
}
