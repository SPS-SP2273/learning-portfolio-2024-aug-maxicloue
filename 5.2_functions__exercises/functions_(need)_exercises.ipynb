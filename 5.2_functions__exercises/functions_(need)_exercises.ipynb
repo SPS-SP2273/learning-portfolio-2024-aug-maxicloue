{
 "cells": [
  {
   "attachments": {},
   "cell_type": "markdown",
   "id": "123456",
   "metadata": {},
   "source": [
    "<div style=\"text-align:left;font-size:2em\"><span style=\"font-weight:bolder;font-size:1.25em\">SP2273 | Learning Portfolio</span><br><br><span style=\"font-weight:bold;color:darkred\">Functions (Need) Exercises</span></div>"
   ]
  },
  {
   "cell_type": "markdown",
   "id": "bcd66397-39e3-4f98-9a6f-2c51a36703e0",
   "metadata": {},
   "source": [
    "### Exercise 1 (Do you know why?)"
   ]
  },
  {
   "cell_type": "code",
   "execution_count": 3,
   "id": "1a03ecc2-ad78-446b-91fa-06319cc0d4cb",
   "metadata": {},
   "outputs": [
    {
     "data": {
      "text/plain": [
       "'Hello max!'"
      ]
     },
     "execution_count": 3,
     "metadata": {},
     "output_type": "execute_result"
    }
   ],
   "source": [
    "def greeting(name):\n",
    "    if name == 'Batman':\n",
    "        return 'Hello Batman! So, nice to meet you!'\n",
    "    return f'Hello {name}!'\n",
    "greeting (name = 'max')"
   ]
  },
  {
   "cell_type": "markdown",
   "id": "afa8af2a-e476-4ad6-ab56-6daa810479ad",
   "metadata": {},
   "source": [
    "The 'else' is redundant as the second 'return' statement acts as the 'else'."
   ]
  },
  {
   "cell_type": "markdown",
   "id": "623ffab6-be0d-4624-a065-b4c58902431d",
   "metadata": {},
   "source": [
    "### Exercise 2 (Chubby or not)"
   ]
  },
  {
   "cell_type": "code",
   "execution_count": 33,
   "id": "c8224d9f-232d-479b-b959-8337e98fca9f",
   "metadata": {},
   "outputs": [
    {
     "name": "stdin",
     "output_type": "stream",
     "text": [
      "What is your weight (in kilograms)? 70\n",
      "What is your height (in metres)? 1.79\n"
     ]
    },
    {
     "data": {
      "text/plain": [
       "'You are NORMAL WEIGHT!'"
      ]
     },
     "execution_count": 33,
     "metadata": {},
     "output_type": "execute_result"
    }
   ],
   "source": [
    "weight = float (input ('What is your weight (in kilograms)?'))\n",
    "height = float (input ('What is your height (in metres)?'))\n",
    "BMI = weight / (height**2)\n",
    "def calculate_bmi(BMI):\n",
    "    if BMI < 18.5 :\n",
    "        return \"You are UNDERWEIGHT!\"\n",
    "    elif 18.5<=BMI<=24.9 :\n",
    "        return \"You are NORMAL WEIGHT!\"\n",
    "    elif 25<=BMI<=29.9 :\n",
    "        return \"You are OVERWEIGHT!\"\n",
    "    elif BMI>30 :\n",
    "        return \"You are OBESE!!! Lose weight FATTY\"\n",
    "\n",
    "calculate_bmi(BMI)"
   ]
  },
  {
   "cell_type": "markdown",
   "id": "005d4ce0-80ab-413c-9f1b-941ad4fc0004",
   "metadata": {},
   "source": [
    "### Exercise 3 (Factorials)"
   ]
  },
  {
   "cell_type": "code",
   "execution_count": 34,
   "id": "e4ef3f87-66ad-48c3-836d-71208b866596",
   "metadata": {},
   "outputs": [
    {
     "data": {
      "text/plain": [
       "120"
      ]
     },
     "execution_count": 34,
     "metadata": {},
     "output_type": "execute_result"
    }
   ],
   "source": [
    "def factorial(n):\n",
    "    if n > 0 :\n",
    "        result = 1\n",
    "        for number in range (1, n+1):\n",
    "            result *= number\n",
    "        return result\n",
    "    elif n == 0: \n",
    "        return 1\n",
    "    elif n < 0:\n",
    "        return \"ERROR! n cannot be negative.\"\n",
    "\n",
    "factorial(5)"
   ]
  },
  {
   "cell_type": "code",
   "execution_count": null,
   "id": "fc4db438-4da0-40d8-bea8-3b5f070629e3",
   "metadata": {},
   "outputs": [],
   "source": []
  }
 ],
 "metadata": {
  "kernelspec": {
   "display_name": "Python 3 (ipykernel)",
   "language": "python",
   "name": "python3"
  },
  "language_info": {
   "codemirror_mode": {
    "name": "ipython",
    "version": 3
   },
   "file_extension": ".py",
   "mimetype": "text/x-python",
   "name": "python",
   "nbconvert_exporter": "python",
   "pygments_lexer": "ipython3",
   "version": "3.12.2"
  },
  "toc": {
   "base_numbering": 1,
   "nav_menu": {},
   "number_sections": true,
   "sideBar": true,
   "skip_h1_title": false,
   "title_cell": "Table of Contents",
   "title_sidebar": "Contents",
   "toc_cell": false,
   "toc_position": {},
   "toc_section_display": true,
   "toc_window_display": false
  },
  "vscode": {
   "interpreter": {
    "hash": "31f2aee4e71d21fbe5cf8b01ff0e069b9275f58929596ceb00d14d90e3e16cd6"
   }
  }
 },
 "nbformat": 4,
 "nbformat_minor": 5
}
