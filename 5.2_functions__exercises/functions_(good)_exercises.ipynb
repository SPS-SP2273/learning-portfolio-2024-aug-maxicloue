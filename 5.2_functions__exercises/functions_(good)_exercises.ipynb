{
 "cells": [
  {
   "attachments": {},
   "cell_type": "markdown",
   "id": "123456",
   "metadata": {},
   "source": [
    "<div style=\"text-align:left;font-size:2em\"><span style=\"font-weight:bolder;font-size:1.25em\">SP2273 | Learning Portfolio</span><br><br><span style=\"font-weight:bold;color:darkred\">Functions (Good) Exercises</span></div>"
   ]
  },
  {
   "cell_type": "markdown",
   "id": "07ed7108-691b-4b88-8148-823f82e70e5f",
   "metadata": {},
   "source": [
    "### Exercise 1 (Celsius to Fahrenheit or Kelvin)"
   ]
  },
  {
   "cell_type": "code",
   "execution_count": 4,
   "id": "f4219447-e136-49d6-8808-de5357a2ba28",
   "metadata": {},
   "outputs": [
    {
     "name": "stdout",
     "output_type": "stream",
     "text": [
      "91.4\n",
      "306.15\n"
     ]
    }
   ],
   "source": [
    "def convert_celsius (temperature_celsius, target_scale = 'Fahrenheit'):\n",
    "    if target_scale == 'Kelvin':\n",
    "        return temperature_celsius + 273.15\n",
    "    else:\n",
    "        return (temperature_celsius * 9/5) +32\n",
    "\n",
    "print (convert_celsius(33))\n",
    "print (convert_celsius(33, 'Kelvin'))"
   ]
  },
  {
   "cell_type": "markdown",
   "id": "3600f9c5-2a54-485a-9a37-1b5cc67d59fd",
   "metadata": {},
   "source": [
    "### Exercise 2 (Fahrenheit to Celsius or Kelvin)"
   ]
  },
  {
   "cell_type": "code",
   "execution_count": 6,
   "id": "e209467b-ced1-4e45-8614-a79e76ed5f5a",
   "metadata": {},
   "outputs": [
    {
     "name": "stdout",
     "output_type": "stream",
     "text": [
      "33.0\n",
      "306.15\n"
     ]
    }
   ],
   "source": [
    "def convert_fahrenheit (temperature_fahrenheit, target_scale = 'Celsius'):\n",
    "    if target_scale == 'Kelvin':\n",
    "        return ((temperature_fahrenheit -32) *5/9)+ 273.15\n",
    "    else:\n",
    "        return (temperature_fahrenheit -32) * 5/9\n",
    "\n",
    "print (convert_fahrenheit(91.4))\n",
    "print (convert_fahrenheit(91.4, 'Kelvin'))"
   ]
  },
  {
   "cell_type": "markdown",
   "id": "71b222a8-ed4c-4342-acf9-ba4cbb216f45",
   "metadata": {},
   "source": [
    "### Exercise 3 (General Temperature Conversion)"
   ]
  },
  {
   "cell_type": "code",
   "execution_count": 10,
   "id": "0c7eab59-ed6b-4e8e-b01b-e8d0c47e693a",
   "metadata": {},
   "outputs": [
    {
     "name": "stdout",
     "output_type": "stream",
     "text": [
      "306.15\n",
      "33.0\n",
      "91.4\n"
     ]
    }
   ],
   "source": [
    "def convert_temperature (temperature, source_scale, target_scale):\n",
    "    if source_scale == 'Celsius':\n",
    "        return convert_celsius(temperature, target_scale)\n",
    "    elif source_scale == \"Fahrenheit\":\n",
    "        return convert_fahrenheit(temperature, target_scale)\n",
    "    elif source_scale ==  \"Kelvin\":\n",
    "        if target_scale == \"Celsius\":\n",
    "            return temperature - 273.15\n",
    "        else:\n",
    "            return ((temperature - 273.15) * 9/5) +32\n",
    "\n",
    "print(convert_temperature(33, 'Celsius', 'Kelvin'))\n",
    "print(convert_temperature(91.4, 'Fahrenheit', 'Celsius'))\n",
    "print(convert_temperature(306.15, 'Kelvin', 'fahrenheit'))"
   ]
  },
  {
   "cell_type": "code",
   "execution_count": null,
   "id": "01e292cd-4035-4dd1-bb03-db0467c0ba91",
   "metadata": {},
   "outputs": [],
   "source": []
  }
 ],
 "metadata": {
  "kernelspec": {
   "display_name": "Python 3 (ipykernel)",
   "language": "python",
   "name": "python3"
  },
  "language_info": {
   "codemirror_mode": {
    "name": "ipython",
    "version": 3
   },
   "file_extension": ".py",
   "mimetype": "text/x-python",
   "name": "python",
   "nbconvert_exporter": "python",
   "pygments_lexer": "ipython3",
   "version": "3.12.2"
  },
  "toc": {
   "base_numbering": 1,
   "nav_menu": {},
   "number_sections": true,
   "sideBar": true,
   "skip_h1_title": false,
   "title_cell": "Table of Contents",
   "title_sidebar": "Contents",
   "toc_cell": false,
   "toc_position": {},
   "toc_section_display": true,
   "toc_window_display": false
  },
  "vscode": {
   "interpreter": {
    "hash": "31f2aee4e71d21fbe5cf8b01ff0e069b9275f58929596ceb00d14d90e3e16cd6"
   }
  }
 },
 "nbformat": 4,
 "nbformat_minor": 5
}
