{
 "cells": [
  {
   "attachments": {},
   "cell_type": "markdown",
   "id": "123456",
   "metadata": {},
   "source": [
    "<div style=\"text-align:left;font-size:2em\"><span style=\"font-weight:bolder;font-size:1.25em\">SP2273 | Learning Portfolio</span><br><br><span style=\"font-weight:bold;color:darkred\">Loops (Good) Exercises</span></div>"
   ]
  },
  {
   "cell_type": "markdown",
   "id": "92d3603e-d616-4a74-8d66-5830bffa1939",
   "metadata": {},
   "source": [
    "### Exercise 1 (Make me an odd list)"
   ]
  },
  {
   "cell_type": "code",
   "execution_count": 2,
   "id": "31075eef-2044-4456-9640-ec1af4e51341",
   "metadata": {},
   "outputs": [
    {
     "name": "stdout",
     "output_type": "stream",
     "text": [
      "[1, 9, 25, 49, 81]\n"
     ]
    }
   ],
   "source": [
    "odds_squared = []\n",
    "for x in range (10):\n",
    "    if x % 2 ==1:\n",
    "        odds_squared.append(x ** 2)\n",
    "\n",
    "print (odds_squared)"
   ]
  },
  {
   "cell_type": "markdown",
   "id": "1e246b45-5ceb-453f-90f9-cb2b668d07e0",
   "metadata": {},
   "source": [
    "### Exercise 2 (Make me another odd list)"
   ]
  },
  {
   "cell_type": "code",
   "execution_count": 4,
   "id": "5e06edc5-16bc-4869-b30b-0dde16b0174d",
   "metadata": {},
   "outputs": [
    {
     "name": "stdout",
     "output_type": "stream",
     "text": [
      "[1, 9, 25, 49, 81]\n"
     ]
    }
   ],
   "source": [
    "odds_squared_2 = [y ** 2 for y in range (10) if y % 2 ==1]\n",
    "print (odds_squared_2)"
   ]
  },
  {
   "cell_type": "markdown",
   "id": "7efb5b50-6b6b-46f4-9e61-ad64953f99b3",
   "metadata": {},
   "source": [
    "### Exercise 3 (Time me!)"
   ]
  },
  {
   "cell_type": "code",
   "execution_count": 8,
   "id": "a742e907-6370-403d-a171-f335d17cbd04",
   "metadata": {},
   "outputs": [
    {
     "name": "stdout",
     "output_type": "stream",
     "text": [
      "290 ns ± 0.604 ns per loop (mean ± std. dev. of 7 runs, 1,000,000 loops each)\n"
     ]
    }
   ],
   "source": [
    "%%timeit\n",
    "\n",
    "odds_squared = []\n",
    "for x in range (10):\n",
    "    if x % 2 ==1:\n",
    "        odds_squared.append(x ** 2)\n"
   ]
  },
  {
   "cell_type": "code",
   "execution_count": 7,
   "id": "5c4a2091-bf94-4f70-959d-ff900f4fd189",
   "metadata": {},
   "outputs": [
    {
     "name": "stdout",
     "output_type": "stream",
     "text": [
      "288 ns ± 7.75 ns per loop (mean ± std. dev. of 7 runs, 1,000,000 loops each)\n"
     ]
    }
   ],
   "source": [
    "%%timeit\n",
    "\n",
    "odds_squared_2 = [y ** 2 for y in range (10) if y % 2 ==1]\n"
   ]
  },
  {
   "cell_type": "markdown",
   "id": "ddf24a75-8a5b-4965-971c-df43d0051b60",
   "metadata": {},
   "source": [
    "### Exercise 4 (A problem of decay)"
   ]
  },
  {
   "cell_type": "code",
   "execution_count": 2,
   "id": "66c2b6ab-8592-4b56-9929-4fc6332c7013",
   "metadata": {},
   "outputs": [
    {
     "name": "stdout",
     "output_type": "stream",
     "text": [
      "It will take 14 years for the sample to reduce to half its original amount.\n"
     ]
    }
   ],
   "source": [
    "initial_qty = 100\n",
    "final_qty = initial_qty / 2\n",
    "current_qty = initial_qty\n",
    "years = 0\n",
    "\n",
    "while initial_qty>final_qty:\n",
    "    initial_qty -= initial_qty * 0.05\n",
    "    years += 1\n",
    "\n",
    "print (f\"It will take {years} years for the sample to reduce to half its original amount.\")"
   ]
  },
  {
   "cell_type": "markdown",
   "id": "82e637bb-dfb6-43e8-a21f-698493eb2b62",
   "metadata": {},
   "source": [
    "### Exercise 5 (Changes in CO2)"
   ]
  },
  {
   "cell_type": "code",
   "execution_count": 3,
   "id": "52ca06b4-c6e2-4309-b156-fa96588f76ee",
   "metadata": {},
   "outputs": [],
   "source": [
    "co2_data = [\n",
    "    (2000, 369.55), (2001, 371.14), (2002, 373.28), \n",
    "    (2003, 375.80), (2004, 377.52), (2005, 379.80), \n",
    "    (2006, 381.90), (2007, 383.79), (2008, 385.60), \n",
    "    (2009, 387.43), (2010, 389.90), (2011, 391.65), \n",
    "    (2012, 393.85), (2013, 396.52), (2014, 398.65),\n",
    "    (2015, 400.83), (2016, 404.24), (2017, 406.55), \n",
    "    (2018, 408.52), (2019, 411.44), (2020, 414.24)\n",
    "]"
   ]
  },
  {
   "cell_type": "code",
   "execution_count": 6,
   "id": "23b1b9ec-f8b2-4dcf-8a78-4b03b69c0900",
   "metadata": {},
   "outputs": [
    {
     "name": "stdout",
     "output_type": "stream",
     "text": [
      "369.55\n",
      "371.14\n",
      "373.28\n",
      "375.8\n",
      "377.52\n",
      "379.8\n",
      "381.9\n",
      "383.79\n",
      "385.6\n",
      "387.43\n",
      "389.9\n",
      "391.65\n",
      "393.85\n",
      "396.52\n",
      "398.65\n",
      "400.83\n",
      "404.24\n",
      "406.55\n",
      "408.52\n",
      "411.44\n",
      "414.24\n"
     ]
    }
   ],
   "source": [
    "for x in range (0, len(co2_data)):\n",
    "    print(co2_data[x][1])"
   ]
  },
  {
   "cell_type": "code",
   "execution_count": null,
   "id": "14c7b6ea-1015-4f21-80be-353b6cf053b6",
   "metadata": {},
   "outputs": [],
   "source": []
  }
 ],
 "metadata": {
  "kernelspec": {
   "display_name": "Python 3 (ipykernel)",
   "language": "python",
   "name": "python3"
  },
  "language_info": {
   "codemirror_mode": {
    "name": "ipython",
    "version": 3
   },
   "file_extension": ".py",
   "mimetype": "text/x-python",
   "name": "python",
   "nbconvert_exporter": "python",
   "pygments_lexer": "ipython3",
   "version": "3.12.2"
  },
  "toc": {
   "base_numbering": 1,
   "nav_menu": {},
   "number_sections": true,
   "sideBar": true,
   "skip_h1_title": false,
   "title_cell": "Table of Contents",
   "title_sidebar": "Contents",
   "toc_cell": false,
   "toc_position": {},
   "toc_section_display": true,
   "toc_window_display": false
  },
  "vscode": {
   "interpreter": {
    "hash": "31f2aee4e71d21fbe5cf8b01ff0e069b9275f58929596ceb00d14d90e3e16cd6"
   }
  }
 },
 "nbformat": 4,
 "nbformat_minor": 5
}
