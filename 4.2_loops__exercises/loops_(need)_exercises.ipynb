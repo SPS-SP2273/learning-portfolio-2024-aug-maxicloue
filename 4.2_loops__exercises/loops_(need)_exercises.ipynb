{
 "cells": [
  {
   "attachments": {},
   "cell_type": "markdown",
   "id": "123456",
   "metadata": {},
   "source": [
    "<div style=\"text-align:left;font-size:2em\"><span style=\"font-weight:bolder;font-size:1.25em\">SP2273 | Learning Portfolio</span><br><br><span style=\"font-weight:bold;color:darkred\">Loops (Need) Exercises</span></div>"
   ]
  },
  {
   "cell_type": "code",
   "execution_count": 44,
   "id": "91a97cfe-2393-4e1a-8c82-cd86458c0ee2",
   "metadata": {},
   "outputs": [],
   "source": [
    "import numpy as np"
   ]
  },
  {
   "cell_type": "markdown",
   "id": "f008df36-a869-413e-b876-713cfad631e2",
   "metadata": {},
   "source": [
    "### Exercise 1 (Celsius to Fahrenheit)"
   ]
  },
  {
   "cell_type": "code",
   "execution_count": 6,
   "id": "536a6216-6927-4d89-84a5-04e44d1fe8f6",
   "metadata": {},
   "outputs": [],
   "source": [
    "temperatures_celsius = [\n",
    "    0, 5, 10, 15, 20, 25,\n",
    "    30, 35, 40, 45, 50\n",
    "]\n",
    "np_celsius = np.array(temperatures_celsius)\n",
    "np_fahrenheit = np_celsius * 9/5 +32"
   ]
  },
  {
   "cell_type": "code",
   "execution_count": 11,
   "id": "0383d6eb-be3f-4ae2-b020-5a038b9d051a",
   "metadata": {},
   "outputs": [
    {
     "name": "stdout",
     "output_type": "stream",
     "text": [
      "0ºC = 32.0ºF\n",
      "5ºC = 41.0ºF\n",
      "10ºC = 50.0ºF\n",
      "15ºC = 59.0ºF\n",
      "20ºC = 68.0ºF\n",
      "25ºC = 77.0ºF\n",
      "30ºC = 86.0ºF\n",
      "35ºC = 95.0ºF\n",
      "40ºC = 104.0ºF\n",
      "45ºC = 113.0ºF\n",
      "50ºC = 122.0ºF\n"
     ]
    }
   ],
   "source": [
    "temperatures_fahrenheit = np_fahrenheit.tolist()\n",
    "for temp_c, temp_f in zip(temperatures_celsius, temperatures_fahrenheit):\n",
    "    print (f\"{temp_c}ºC = {temp_f}ºF\")"
   ]
  },
  {
   "cell_type": "markdown",
   "id": "b3602973-9d80-4d80-82dd-0ec517528e30",
   "metadata": {},
   "source": [
    "### Exercise 2 (Multiplication table)"
   ]
  },
  {
   "cell_type": "code",
   "execution_count": 12,
   "id": "6108c2d5-805d-4c75-b747-3e9559972011",
   "metadata": {},
   "outputs": [
    {
     "name": "stdout",
     "output_type": "stream",
     "text": [
      "A1\tA2\tA3\t\n",
      "\n",
      "B1\tB2\tB3\t\n",
      "\n",
      "C1\tC2\tC3\t\n",
      "\n"
     ]
    }
   ],
   "source": [
    "for letter in ['A', 'B', 'C']:\n",
    "    for number in [1, 2, 3]:\n",
    "        print(f'{letter}{number}', end='\\t')\n",
    "    print('\\n')"
   ]
  },
  {
   "cell_type": "code",
   "execution_count": 42,
   "id": "1976b727-8901-4f02-82fd-8843c243ec74",
   "metadata": {},
   "outputs": [
    {
     "name": "stdout",
     "output_type": "stream",
     "text": [
      "1:\t1\t2\t3\t4\t5\t\n",
      "\n",
      "2:\t2\t4\t6\t8\t10\t\n",
      "\n",
      "3:\t3\t6\t9\t12\t15\t\n",
      "\n",
      "4:\t4\t8\t12\t16\t20\t\n",
      "\n",
      "5:\t5\t10\t15\t20\t25\t\n",
      "\n"
     ]
    }
   ],
   "source": [
    "size = 5\n",
    "for x in range (1, size+1):\n",
    "    print(f'{x}:', end = '\\t')\n",
    "    \n",
    "    for y in range (1, size+1):\n",
    "        print(x * y, end = '\\t')\n",
    "\n",
    "    print ('\\n')"
   ]
  },
  {
   "cell_type": "markdown",
   "id": "cb5fa30d-062c-41b9-9540-59e200468edd",
   "metadata": {},
   "source": [
    "### Exercise 3 (Simulating a coin flip experiment)"
   ]
  },
  {
   "cell_type": "code",
   "execution_count": 45,
   "id": "66c9d2fd-5e59-470c-9e2a-3dd7b00e2368",
   "metadata": {},
   "outputs": [
    {
     "name": "stdout",
     "output_type": "stream",
     "text": [
      "Experiment 1:\tNo. of Heads = 7\n",
      "Experiment 2:\tNo. of Heads = 6\n",
      "Experiment 3:\tNo. of Heads = 6\n",
      "Experiment 4:\tNo. of Heads = 5\n",
      "Experiment 5:\tNo. of Heads = 3\n",
      "Experiment 6:\tNo. of Heads = 4\n",
      "Experiment 7:\tNo. of Heads = 3\n",
      "Experiment 8:\tNo. of Heads = 9\n",
      "Experiment 9:\tNo. of Heads = 6\n",
      "Experiment 10:\tNo. of Heads = 3\n"
     ]
    }
   ],
   "source": [
    "num_experiments = 10\n",
    "\n",
    "for x in range (1, num_experiments + 1):\n",
    "    flips = np.random.rand(10)\n",
    "    heads = np.sum(flips > 0.5)\n",
    "    print(f\"Experiment {x}:\" '\\t' f\"No. of Heads = {heads}\")"
   ]
  },
  {
   "cell_type": "code",
   "execution_count": null,
   "id": "25fc1d5a-e8d3-4761-bfc6-5498f3216c45",
   "metadata": {},
   "outputs": [],
   "source": []
  }
 ],
 "metadata": {
  "kernelspec": {
   "display_name": "Python 3 (ipykernel)",
   "language": "python",
   "name": "python3"
  },
  "language_info": {
   "codemirror_mode": {
    "name": "ipython",
    "version": 3
   },
   "file_extension": ".py",
   "mimetype": "text/x-python",
   "name": "python",
   "nbconvert_exporter": "python",
   "pygments_lexer": "ipython3",
   "version": "3.12.2"
  },
  "toc": {
   "base_numbering": 1,
   "nav_menu": {},
   "number_sections": true,
   "sideBar": true,
   "skip_h1_title": false,
   "title_cell": "Table of Contents",
   "title_sidebar": "Contents",
   "toc_cell": false,
   "toc_position": {},
   "toc_section_display": true,
   "toc_window_display": false
  },
  "vscode": {
   "interpreter": {
    "hash": "31f2aee4e71d21fbe5cf8b01ff0e069b9275f58929596ceb00d14d90e3e16cd6"
   }
  }
 },
 "nbformat": 4,
 "nbformat_minor": 5
}
