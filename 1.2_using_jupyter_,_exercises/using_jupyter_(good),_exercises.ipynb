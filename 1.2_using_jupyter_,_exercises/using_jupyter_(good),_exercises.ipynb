{
 "cells": [
  {
   "attachments": {},
   "cell_type": "markdown",
   "id": "123456",
   "metadata": {},
   "source": [
    "<div style=\"text-align:left;font-size:2em\"><span style=\"font-weight:bolder;font-size:1.25em\">SP2273 | Learning Portfolio</span><br><br><span style=\"font-weight:bold;color:darkred\">Using Jupyter (Good), Exercises</span></div>"
   ]
  },
  {
   "attachments": {},
   "cell_type": "markdown",
   "id": "4673c2e8",
   "metadata": {},
   "source": [
    "## Exercise 1 (Learning to Interrupt)"
   ]
  },
  {
   "cell_type": "code",
   "execution_count": null,
   "id": "e73f3928-a43c-441f-b508-75ee0be7324d",
   "metadata": {},
   "outputs": [],
   "source": [
    "while True:\n",
    "    print('*', end='')"
   ]
  },
  {
   "cell_type": "markdown",
   "id": "e1b3d4b0-eab0-48a3-bdcb-7f36bafcf95e",
   "metadata": {},
   "source": [
    "## Exercise 2 (Resetting & Restarting the Kernel)"
   ]
  },
  {
   "cell_type": "code",
   "execution_count": null,
   "id": "0afe042a-94ad-417e-a081-168883e4db70",
   "metadata": {},
   "outputs": [],
   "source": [
    "print = 'PRINT'"
   ]
  },
  {
   "cell_type": "code",
   "execution_count": 1,
   "id": "3d72594d-be10-43f1-b1c0-ffa41303a513",
   "metadata": {},
   "outputs": [
    {
     "name": "stdout",
     "output_type": "stream",
     "text": [
      "hello world\n"
     ]
    }
   ],
   "source": [
    "print ('hello world')"
   ]
  },
  {
   "cell_type": "markdown",
   "id": "c0a0b5c3-df00-4082-9cff-b69ee2fe66f3",
   "metadata": {},
   "source": [
    "## Exercise 3 (Timing Stuff)"
   ]
  },
  {
   "cell_type": "code",
   "execution_count": 11,
   "id": "3b539963-c11e-4a30-addd-38d38db9ad24",
   "metadata": {},
   "outputs": [
    {
     "name": "stdout",
     "output_type": "stream",
     "text": [
      "81\n"
     ]
    }
   ],
   "source": [
    "print (i**2)\n",
    "squares = [i**2 for i in range(10)]\n"
   ]
  },
  {
   "cell_type": "code",
   "execution_count": 8,
   "id": "4cdd34aa-078d-4f01-b7db-dc250a1f118b",
   "metadata": {},
   "outputs": [
    {
     "name": "stdout",
     "output_type": "stream",
     "text": [
      "81\n"
     ]
    }
   ],
   "source": [
    "print (i**2)\n",
    "squares = list()\n",
    "for i in range(10):\n",
    "    squares.append(i**2)"
   ]
  },
  {
   "cell_type": "code",
   "execution_count": 12,
   "id": "d319890a-2188-4b02-84b1-57515b6168e5",
   "metadata": {},
   "outputs": [
    {
     "name": "stdout",
     "output_type": "stream",
     "text": [
      "251 ns ± 5.82 ns per loop (mean ± std. dev. of 7 runs, 1,000,000 loops each)\n"
     ]
    }
   ],
   "source": [
    "%%timeit\n",
    "squares = [i**2 for i in range(10)]\n"
   ]
  },
  {
   "cell_type": "code",
   "execution_count": 13,
   "id": "52d3a271-c875-472f-83ba-3952e4ce4143",
   "metadata": {},
   "outputs": [
    {
     "name": "stdout",
     "output_type": "stream",
     "text": [
      "295 ns ± 4.68 ns per loop (mean ± std. dev. of 7 runs, 1,000,000 loops each)\n"
     ]
    }
   ],
   "source": [
    "%%timeit\n",
    "squares = list()\n",
    "for i in range(10):\n",
    "    squares.append(i**2)"
   ]
  },
  {
   "cell_type": "markdown",
   "id": "2cd70766-e81c-4c3a-80d6-729cb531b3cc",
   "metadata": {},
   "source": [
    "The first set of numbers is the mean time taken to run 1 loop of the programme, in nanoseconds. The second set of numbers is the standard deviation of 7 runs"
   ]
  }
 ],
 "metadata": {
  "kernelspec": {
   "display_name": "Python 3 (ipykernel)",
   "language": "python",
   "name": "python3"
  },
  "language_info": {
   "codemirror_mode": {
    "name": "ipython",
    "version": 3
   },
   "file_extension": ".py",
   "mimetype": "text/x-python",
   "name": "python",
   "nbconvert_exporter": "python",
   "pygments_lexer": "ipython3",
   "version": "3.12.2"
  },
  "toc": {
   "base_numbering": 1,
   "nav_menu": {},
   "number_sections": true,
   "sideBar": true,
   "skip_h1_title": false,
   "title_cell": "Table of Contents",
   "title_sidebar": "Contents",
   "toc_cell": false,
   "toc_position": {},
   "toc_section_display": true,
   "toc_window_display": false
  },
  "vscode": {
   "interpreter": {
    "hash": "31f2aee4e71d21fbe5cf8b01ff0e069b9275f58929596ceb00d14d90e3e16cd6"
   }
  }
 },
 "nbformat": 4,
 "nbformat_minor": 5
}
