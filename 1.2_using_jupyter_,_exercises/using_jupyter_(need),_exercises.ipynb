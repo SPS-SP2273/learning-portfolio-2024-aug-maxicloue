{
 "cells": [
  {
   "attachments": {},
   "cell_type": "markdown",
   "id": "123456",
   "metadata": {},
   "source": [
    "<div style=\"text-align:left;font-size:2em\"><span style=\"font-weight:bolder;font-size:1.25em\">SP2273 | Learning Portfolio</span><br><br><span style=\"font-weight:bold;color:darkred\">Using Jupyter (Need), Exercises</span></div>"
   ]
  },
  {
   "attachments": {},
   "cell_type": "markdown",
   "id": "bb092aac",
   "metadata": {},
   "source": [
    "## 1 Quadratic Equations"
   ]
  },
  {
   "attachments": {},
   "cell_type": "markdown",
   "id": "fa920212",
   "metadata": {},
   "source": [
    "### Introduction"
   ]
  },
  {
   "attachments": {},
   "cell_type": "markdown",
   "id": "c6cbdacb-ce69-4e60-af28-622478cd8856",
   "metadata": {},
   "source": [
    "![](https://upload.wikimedia.org/wikipedia/commons/thumb/f/f8/Polynomialdeg2.svg/600px-Polynomialdeg2.svg.png)\n",
    "\n",
    "(*Image from the [Wikipedia page on Quadratic Equations](https://en.wikipedia.org/wiki/Quadratic_equation)*)\n",
    "\n",
    "The general form of a quadratic equation is:\n",
    "\n",
    "$$ax^2 + bx + c = 0$$\n"
   ]
  },
  {
   "attachments": {},
   "cell_type": "markdown",
   "id": "33b8e935",
   "metadata": {},
   "source": [
    "### Solutions"
   ]
  },
  {
   "cell_type": "markdown",
   "id": "42881cf2-e419-49fa-9b14-8276bd4491d8",
   "metadata": {},
   "source": [
    "Provided $a \\ne 0$, we can use an elementary algebraic method called [completing the square](https://en.wikipedia.org/wiki/Completing_the_square) to show that a quadratic equation has the following solution:\n",
    "$$\n",
    "x = \\dfrac{-b \\pm \\sqrt{b^2-4ac}}{2a}\n",
    "$$"
   ]
  },
  {
   "attachments": {},
   "cell_type": "markdown",
   "id": "35d03a51",
   "metadata": {},
   "source": [
    "### Discriminant"
   ]
  },
  {
   "cell_type": "markdown",
   "id": "ac40cf16-da36-42a2-b515-0fc6c04b3c60",
   "metadata": {},
   "source": [
    "The quantity $\\Delta = b^2 - 4ac$ is called the **discriminant** of the equation and decides the nature of its solutions. The table below shows the various possibilities.\n",
    "\n",
    "|**Discriminant**|**Roots**|\n",
    "|:---------------:|:--------|\n",
    "|$\\Delta = b^2 - 4ac = 0$|A single solution of $-b/(2a)$|\n",
    "|$\\Delta = b^2 - 4ac > 0$|Two distinct solutions|\n",
    "|$\\Delta = b^2 - 4ac < 0$|No real solutions; both are complex|"
   ]
  },
  {
   "cell_type": "markdown",
   "id": "ed983f25-9d44-4d9b-87a9-16aca9a471a2",
   "metadata": {},
   "source": [
    "## Exercise 2 (in your own words) "
   ]
  },
  {
   "cell_type": "markdown",
   "id": "929d1c40-e2e7-4f99-984e-ef60fa00c822",
   "metadata": {},
   "source": [
    "1. What is a Git **repository**? - It is like a file to save our workbooks to\n",
    "2. Git keeps track of __ BLANK __ in the files in our repository. - changes\n",
    "3. What is a **commit**? - It is like a manual save\n",
    "4. What is a **push**? - It is like uploading what we have committed to the cloud\n",
    "5. What is a **pull**? - It is what allows multiple people to make chnages to the same file\n",
    "6. What is the difference between **GitHub** and **GitHub Desktop**? - GitHub Desktop is the local version of GitHub, where you can save on just your device as compared to on the cloud with GitHub"
   ]
  },
  {
   "cell_type": "markdown",
   "id": "c7e1be4c-5241-405d-9996-4780294a9dbe",
   "metadata": {},
   "source": [
    "## Exercise 3 (A matter of statistics)"
   ]
  },
  {
   "cell_type": "markdown",
   "id": "900d3929-dd97-474f-8c09-7d662237b3d3",
   "metadata": {},
   "source": [
    "$\\mu = \\frac{1}{n} \\sum_{i=1}^{n} x_i$"
   ]
  },
  {
   "cell_type": "markdown",
   "id": "a6acbd06-94f7-444e-9052-bb995657b718",
   "metadata": {},
   "source": [
    "$\\sigma = \\sqrt{\\frac{1}{n} \\sum_{i=1}^{n} (x_i - \\mu^2)}$"
   ]
  },
  {
   "cell_type": "markdown",
   "id": "52dceb5b-fe6c-4845-a278-8a082efd55f6",
   "metadata": {},
   "source": [
    "$r = \\frac {\\sum_{i=1}^{n} (x_i - \\mu_X)(y_i - \\mu_Y)}{\\sqrt{\\sum_{i=1}^{n} (x_i - \\mu_X)^2 \\sum_{i=1}^{n} (y_i - \\mu_Y)^2}}$"
   ]
  },
  {
   "cell_type": "code",
   "execution_count": null,
   "id": "ea381ab2-d837-4f5c-91aa-fa95d585da05",
   "metadata": {},
   "outputs": [],
   "source": []
  }
 ],
 "metadata": {
  "kernelspec": {
   "display_name": "Python 3 (ipykernel)",
   "language": "python",
   "name": "python3"
  },
  "language_info": {
   "codemirror_mode": {
    "name": "ipython",
    "version": 3
   },
   "file_extension": ".py",
   "mimetype": "text/x-python",
   "name": "python",
   "nbconvert_exporter": "python",
   "pygments_lexer": "ipython3",
   "version": "3.12.2"
  },
  "toc": {
   "base_numbering": 1,
   "nav_menu": {},
   "number_sections": true,
   "sideBar": true,
   "skip_h1_title": false,
   "title_cell": "Table of Contents",
   "title_sidebar": "Contents",
   "toc_cell": false,
   "toc_position": {},
   "toc_section_display": true,
   "toc_window_display": false
  },
  "vscode": {
   "interpreter": {
    "hash": "31f2aee4e71d21fbe5cf8b01ff0e069b9275f58929596ceb00d14d90e3e16cd6"
   }
  }
 },
 "nbformat": 4,
 "nbformat_minor": 5
}
