{
 "cells": [
  {
   "attachments": {},
   "cell_type": "markdown",
   "id": "123456",
   "metadata": {},
   "source": [
    "<div style=\"text-align:left;font-size:2em\"><span style=\"font-weight:bolder;font-size:1.25em\">SP2273 | Learning Portfolio</span><br><br><span style=\"font-weight:bold;color:darkred\">Storing Data (Good) Exercises</span></div>"
   ]
  },
  {
   "cell_type": "markdown",
   "id": "ce9454f5-e725-4bc5-bfc1-cb7eec3c3d5b",
   "metadata": {},
   "source": [
    "### Exercise 1 (Total Recall) "
   ]
  },
  {
   "cell_type": "markdown",
   "id": "2c9ccdc7-0f05-416c-8549-7bdac4139112",
   "metadata": {},
   "source": [
    "|**Term**|**Brief Description**|\n",
    "|:-------|:--------------------|\n",
    "|Subsetting|Selecting values from the stored data|\n",
    "|Indexing|Selecting a single value from the stored data|\n",
    "|Slicing|Selecting a range of values from the stored data|\n",
    "|Masking|Using True/False to select values from stored data|\n"
   ]
  },
  {
   "cell_type": "markdown",
   "id": "30d4353a-e524-4355-ac8e-347e2723e439",
   "metadata": {},
   "source": [
    "### Exercise 2 (Show me the 'odd' letters)"
   ]
  },
  {
   "cell_type": "code",
   "execution_count": 2,
   "id": "cd484647-d7dc-440e-88e3-9cf4dbdf519c",
   "metadata": {},
   "outputs": [],
   "source": [
    "import numpy as np\n",
    "np_array_2d = np.array([[1, \"A\"], [3, \"C\"], [2, \"B\"], [4, \"D\"],\n",
    "                        [5, \"E\"], [7, \"G\"], [6, \"F\"], [8, \"H\"],\n",
    "                        [10, \"J\"], [9, \"I\"]])"
   ]
  },
  {
   "cell_type": "code",
   "execution_count": 5,
   "id": "930642d3-0892-43a3-903a-1bc170496afa",
   "metadata": {},
   "outputs": [],
   "source": [
    "arr_int = np_array_2d[:, 0].astype(int)"
   ]
  },
  {
   "cell_type": "code",
   "execution_count": 1,
   "id": "64b1010f-8748-4d50-85b4-4ef8657d15c4",
   "metadata": {},
   "outputs": [
    {
     "ename": "NameError",
     "evalue": "name 'arr_int' is not defined",
     "output_type": "error",
     "traceback": [
      "\u001b[0;31m---------------------------------------------------------------------------\u001b[0m",
      "\u001b[0;31mNameError\u001b[0m                                 Traceback (most recent call last)",
      "Cell \u001b[0;32mIn[1], line 1\u001b[0m\n\u001b[0;32m----> 1\u001b[0m odd_mask \u001b[38;5;241m=\u001b[39m \u001b[43marr_int\u001b[49m \u001b[38;5;241m%\u001b[39m \u001b[38;5;241m2\u001b[39m \u001b[38;5;241m==\u001b[39m \u001b[38;5;241m1\u001b[39m\n\u001b[1;32m      2\u001b[0m \u001b[38;5;28mprint\u001b[39m(odd_mask)\n\u001b[1;32m      3\u001b[0m np_array_letters \u001b[38;5;241m=\u001b[39m np_array_2d[odd_mask,\u001b[38;5;241m1\u001b[39m]\n",
      "\u001b[0;31mNameError\u001b[0m: name 'arr_int' is not defined"
     ]
    }
   ],
   "source": [
    "odd_mask = arr_int % 2 == 1\n",
    "print(odd_mask)\n",
    "np_array_letters = np_array_2d[odd_mask,1]\n",
    "print(np_array_letters)\n"
   ]
  },
  {
   "cell_type": "markdown",
   "id": "eb7518a4-837b-4da5-a8c5-947dbae31b27",
   "metadata": {},
   "source": [
    "### Exercise 3 "
   ]
  },
  {
   "cell_type": "code",
   "execution_count": 18,
   "id": "35887b2a-53d5-42e2-8d6f-0b14a715537c",
   "metadata": {},
   "outputs": [],
   "source": [
    "array = np.array([[66, 50, 57, -1, -1],\n",
    " [92, -1, 88, -1, -1],\n",
    " [75, -1, -1, 76, -1],\n",
    " [-1, 51, 87, -1, -1],\n",
    " [71, -1, 67, -1, 69]])"
   ]
  },
  {
   "cell_type": "code",
   "execution_count": 20,
   "id": "ceb18471-eb45-4649-bf52-ad633c4dbde2",
   "metadata": {},
   "outputs": [
    {
     "name": "stdout",
     "output_type": "stream",
     "text": [
      "[[ 1  0  1 -1 -1]\n",
      " [ 1 -1  1 -1 -1]\n",
      " [ 1 -1 -1  1 -1]\n",
      " [-1  1  1 -1 -1]\n",
      " [ 1 -1  1 -1  1]]\n"
     ]
    }
   ],
   "source": [
    "result = np.empty_like(array)\n",
    "result[array <50] = -1\n",
    "result[array >50] = 1\n",
    "result[array==50] = 0\n",
    "print(result)"
   ]
  },
  {
   "cell_type": "code",
   "execution_count": null,
   "id": "759e7c04-267f-421c-a5c9-64c82cbb2d8a",
   "metadata": {},
   "outputs": [],
   "source": []
  }
 ],
 "metadata": {
  "kernelspec": {
   "display_name": "Python 3 (ipykernel)",
   "language": "python",
   "name": "python3"
  },
  "language_info": {
   "codemirror_mode": {
    "name": "ipython",
    "version": 3
   },
   "file_extension": ".py",
   "mimetype": "text/x-python",
   "name": "python",
   "nbconvert_exporter": "python",
   "pygments_lexer": "ipython3",
   "version": "3.12.2"
  },
  "toc": {
   "base_numbering": 1,
   "nav_menu": {},
   "number_sections": true,
   "sideBar": true,
   "skip_h1_title": false,
   "title_cell": "Table of Contents",
   "title_sidebar": "Contents",
   "toc_cell": false,
   "toc_position": {},
   "toc_section_display": true,
   "toc_window_display": false
  },
  "vscode": {
   "interpreter": {
    "hash": "31f2aee4e71d21fbe5cf8b01ff0e069b9275f58929596ceb00d14d90e3e16cd6"
   }
  }
 },
 "nbformat": 4,
 "nbformat_minor": 5
}
