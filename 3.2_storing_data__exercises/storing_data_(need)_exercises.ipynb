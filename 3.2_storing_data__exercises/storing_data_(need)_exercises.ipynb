{
 "cells": [
  {
   "attachments": {},
   "cell_type": "markdown",
   "id": "123456",
   "metadata": {},
   "source": [
    "<div style=\"text-align:left;font-size:2em\"><span style=\"font-weight:bolder;font-size:1.25em\">SP2273 | Learning Portfolio</span><br><br><span style=\"font-weight:bold;color:darkred\">Storing Data (Need) Exercises</span></div>"
   ]
  },
  {
   "cell_type": "markdown",
   "id": "5f8d70e0-c6a1-443a-a3c3-c3f494cc6f7c",
   "metadata": {},
   "source": [
    "### Exercise 1 (Total recall?)"
   ]
  },
  {
   "cell_type": "markdown",
   "id": "9b55b450-1834-45dc-ba3f-bfa8b2b03a70",
   "metadata": {},
   "source": [
    "1. Both lists and arrays can store information, both require indexes to extract data from the list.\n",
    "2. Lists can contain many data types (int, float, str) while arrays can only accept a single data type. When adding lists, the 2 lists combine to make a longer list while when adding arrays, the numbers in the same position are added together.\n",
    "3. A dictionary holds information by having a \"key\" and its associated value, meaning it can store multiple sets of data simultaneously."
   ]
  },
  {
   "cell_type": "markdown",
   "id": "81b8fac3-447b-468b-9ffa-7f4de4767f54",
   "metadata": {},
   "source": [
    "### Exercise 2 (Indexing)"
   ]
  },
  {
   "cell_type": "code",
   "execution_count": 4,
   "id": "1bacac22-e3d2-489e-a479-45b8c1594709",
   "metadata": {},
   "outputs": [
    {
     "name": "stdout",
     "output_type": "stream",
     "text": [
      "a1\n",
      "c3\n",
      "e5\n",
      "g7\n",
      "i9\n"
     ]
    }
   ],
   "source": [
    "py_list = [\"a1\", \"b2\", \"c3\", \"d4\", \"e5\", \"f6\", \"g7\", \"h8\", \"i9\", \"j10\"]\n",
    "print(py_list[0])   # Prints 'a1'\n",
    "print(py_list[2])   # Prints 'c3'\n",
    "print(py_list[4])   # Prints 'e5'\n",
    "print(py_list[6])   # Prints 'g7'\n",
    "print(py_list[8])   # Prints 'i9'"
   ]
  },
  {
   "cell_type": "markdown",
   "id": "0ad84b82-f12d-4c61-9b69-f8f309505963",
   "metadata": {},
   "source": [
    "### Exercise 3 (Index again)"
   ]
  },
  {
   "cell_type": "code",
   "execution_count": 5,
   "id": "10d4726e-e045-441f-9594-3dcf46135aff",
   "metadata": {},
   "outputs": [],
   "source": [
    "elements = ['Hydrogen',\n",
    "            'Helium', 'Lithium',\n",
    "            'Beryllium', 'Boron', 'Carbon',\n",
    "            'Nitrogen', 'Oxygen',\n",
    "            'Fluorine',\n",
    "            'Neon']"
   ]
  },
  {
   "cell_type": "code",
   "execution_count": 6,
   "id": "6aca4435-1b4b-4179-add7-3a37e3f8ed1c",
   "metadata": {},
   "outputs": [
    {
     "name": "stdout",
     "output_type": "stream",
     "text": [
      "Beryllium\n",
      "Nitrogen\n"
     ]
    }
   ],
   "source": [
    "print(elements[3])\n",
    "print(elements[-4])"
   ]
  },
  {
   "cell_type": "markdown",
   "id": "47074d89-0891-44a9-b4b6-8eeea5fcc550",
   "metadata": {},
   "source": [
    "### Exercise 4 (How many ones?)"
   ]
  },
  {
   "cell_type": "code",
   "execution_count": 7,
   "id": "5c49c71f-bad3-4f04-9037-a4d3223831f5",
   "metadata": {},
   "outputs": [],
   "source": [
    "numbers=[45, 60, 1, 30, 96, 1, 96, 57, 16, 1,\n",
    "        99, 62, 86, 43, 42, 60, 59, 1, 1, 35,\n",
    "        83, 47, 34, 28, 68, 23, 22, 92, 1, 79,\n",
    "        1, 29, 94, 72, 46, 47, 1, 74, 32, 20,\n",
    "        8, 37, 35, 1, 89, 29, 86, 19, 43, 61]                  "
   ]
  },
  {
   "cell_type": "code",
   "execution_count": 33,
   "id": "a1dd25a2-9f74-4551-9883-9bc5186ec081",
   "metadata": {},
   "outputs": [
    {
     "data": {
      "text/plain": [
       "np.int64(9)"
      ]
     },
     "execution_count": 33,
     "metadata": {},
     "output_type": "execute_result"
    }
   ],
   "source": [
    "import numpy as np\n",
    "np_array = np.array(numbers)\n",
    "np.sum(np_array==1)"
   ]
  },
  {
   "cell_type": "markdown",
   "id": "a23bab5d-50fa-44e6-9e3a-4bccc21626d7",
   "metadata": {},
   "source": [
    "### Exercise 5 (A Matter of Statistics)"
   ]
  },
  {
   "cell_type": "code",
   "execution_count": 13,
   "id": "444a026e-8188-48f7-af47-e0502bfa99cd",
   "metadata": {},
   "outputs": [],
   "source": [
    "x_1 = [1, 4, 9, 16, 25, 36, 49, 64, 81, 100]\n",
    "x_2 = [1, 8, 27, 64, 125, 216, 343, 512, 729, 1000]"
   ]
  },
  {
   "cell_type": "code",
   "execution_count": 19,
   "id": "0c6e74ae-26d3-4bb1-bb58-fcafb1e705e5",
   "metadata": {},
   "outputs": [
    {
     "name": "stdout",
     "output_type": "stream",
     "text": [
      "38.5\n",
      "302.5\n"
     ]
    }
   ],
   "source": [
    "x1_array = np.array(x_1)\n",
    "x2_array = np.array(x_2)\n",
    "print(x1_array.mean())  #mean of x1\n",
    "print(x2_array.mean())  #mean of x2"
   ]
  },
  {
   "cell_type": "code",
   "execution_count": 18,
   "id": "8bd68455-3d17-4768-b080-a579843a7a6e",
   "metadata": {},
   "outputs": [
    {
     "name": "stdout",
     "output_type": "stream",
     "text": [
      "32.41990129534635\n",
      "326.0893282522444\n"
     ]
    }
   ],
   "source": [
    "print(x1_array.std())  #s.d. of x1\n",
    "print(x2_array.std())  #s.d. of x2"
   ]
  },
  {
   "cell_type": "code",
   "execution_count": 38,
   "id": "2cfd912a-3494-4e61-8355-0ed7b1a77344",
   "metadata": {},
   "outputs": [
    {
     "name": "stdout",
     "output_type": "stream",
     "text": [
      "1.0\n"
     ]
    }
   ],
   "source": [
    "result = np.sum((100 - 38.5) * (1000 - 302.5)) / np.sqrt(np.sum((100 - 38.5)**2) * np.sum((1000 - 302.5)**2))\n",
    "print(result)"
   ]
  },
  {
   "cell_type": "code",
   "execution_count": 35,
   "id": "cb38457b-1b3d-4f7f-bd20-3f48d6feebdd",
   "metadata": {},
   "outputs": [
    {
     "data": {
      "text/plain": [
       "array([[1.        , 0.98717966],\n",
       "       [0.98717966, 1.        ]])"
      ]
     },
     "execution_count": 35,
     "metadata": {},
     "output_type": "execute_result"
    }
   ],
   "source": [
    "np.corrcoef(x1_array, x2_array)"
   ]
  },
  {
   "cell_type": "code",
   "execution_count": null,
   "id": "d70651d2-0e97-4083-8c28-5f227781d4ef",
   "metadata": {},
   "outputs": [],
   "source": []
  }
 ],
 "metadata": {
  "kernelspec": {
   "display_name": "Python 3 (ipykernel)",
   "language": "python",
   "name": "python3"
  },
  "language_info": {
   "codemirror_mode": {
    "name": "ipython",
    "version": 3
   },
   "file_extension": ".py",
   "mimetype": "text/x-python",
   "name": "python",
   "nbconvert_exporter": "python",
   "pygments_lexer": "ipython3",
   "version": "3.12.2"
  },
  "toc": {
   "base_numbering": 1,
   "nav_menu": {},
   "number_sections": true,
   "sideBar": true,
   "skip_h1_title": false,
   "title_cell": "Table of Contents",
   "title_sidebar": "Contents",
   "toc_cell": false,
   "toc_position": {},
   "toc_section_display": true,
   "toc_window_display": false
  },
  "vscode": {
   "interpreter": {
    "hash": "31f2aee4e71d21fbe5cf8b01ff0e069b9275f58929596ceb00d14d90e3e16cd6"
   }
  }
 },
 "nbformat": 4,
 "nbformat_minor": 5
}
